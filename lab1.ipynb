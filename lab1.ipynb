{
 "cells": [
  {
   "cell_type": "code",
   "execution_count": null,
   "metadata": {},
   "outputs": [],
   "source": [
    "text "
   ]
  },
  {
   "cell_type": "code",
   "execution_count": 34,
   "metadata": {},
   "outputs": [
    {
     "ename": "ModuleNotFoundError",
     "evalue": "No module named 'BeautifulSoup'",
     "output_type": "error",
     "traceback": [
      "\u001b[1;31m---------------------------------------------------------------------------\u001b[0m",
      "\u001b[1;31mModuleNotFoundError\u001b[0m                       Traceback (most recent call last)",
      "\u001b[1;32m<ipython-input-34-7f183385c754>\u001b[0m in \u001b[0;36m<module>\u001b[1;34m()\u001b[0m\n\u001b[1;32m----> 1\u001b[1;33m \u001b[1;32mimport\u001b[0m \u001b[0mBeautifulSoup\u001b[0m\u001b[1;33m\u001b[0m\u001b[0m\n\u001b[0m\u001b[0;32m      2\u001b[0m \u001b[1;32mimport\u001b[0m \u001b[0murllib2\u001b[0m\u001b[1;33m\u001b[0m\u001b[0m\n\u001b[0;32m      3\u001b[0m \u001b[1;32mimport\u001b[0m \u001b[0mre\u001b[0m\u001b[1;33m\u001b[0m\u001b[0m\n\u001b[0;32m      4\u001b[0m \u001b[1;33m\u001b[0m\u001b[0m\n\u001b[0;32m      5\u001b[0m \u001b[0mhtml_page\u001b[0m \u001b[1;33m=\u001b[0m \u001b[0murllib2\u001b[0m\u001b[1;33m.\u001b[0m\u001b[0murlopen\u001b[0m\u001b[1;33m(\u001b[0m\u001b[1;34m\"https://play.google.com/store/apps/top\"\u001b[0m\u001b[1;33m)\u001b[0m\u001b[1;33m\u001b[0m\u001b[0m\n",
      "\u001b[1;31mModuleNotFoundError\u001b[0m: No module named 'BeautifulSoup'"
     ]
    }
   ],
   "source": [
    "import BeautifulSoup\n",
    "import urllib2\n",
    "import re\n",
    "\n",
    "html_page = urllib2.urlopen(\"https://play.google.com/store/apps/top\")\n",
    "soup = BeautifulSoup(html_page)\n",
    "for link in soup.findAll('a'):\n",
    "    print(link.get('href'))"
   ]
  },
  {
   "cell_type": "code",
   "execution_count": 36,
   "metadata": {},
   "outputs": [
    {
     "name": "stdout",
     "output_type": "stream",
     "text": [
      "/store/apps/category/ANDROID_WEAR/store/apps/stream/vr_top_device_featured_category/store/apps/category/PERSONALIZATION\n"
     ]
    }
   ],
   "source": [
    "href=\"/store/apps/category/ANDROID_WEAR\"+\"/store/apps/stream/vr_top_device_featured_category\"+\"/store/apps/category/PERSONALIZATION\"\n",
    "print(href)"
   ]
  },
  {
   "cell_type": "code",
   "execution_count": 23,
   "metadata": {
    "scrolled": false
   },
   "outputs": [],
   "source": [
    "import urllib.request\n",
    "#x = urllib.request.urlopen('https://play.google.com/store/apps/category/GAME?hl=en').read().decode('utf-8')\n",
    "#print(x)\n",
    "categories = \"x = urllib.request.urlopen('https://play.google.com/store/apps/top?hl=en&num=100').read().decode('utf-8')\n"
   ]
  },
  {
   "cell_type": "code",
   "execution_count": 24,
   "metadata": {},
   "outputs": [
    {
     "name": "stdout",
     "output_type": "stream",
     "text": [
      "86\n",
      "['/store/apps/details?id=com.water.surfingrace.motorbike.stunt', '/store/apps/details?id=com.opera.mini.native', '/store/apps/details?id=com.nexon.pr', '/store/apps/details?id=com.facebook.mlite', '/store/apps/details?id=com.outfit7.mytalkingangelafree', '/store/apps/details?id=time.bubble', '/store/apps/details?id=com.snapchat.android', '/store/apps/details?id=bubbleshooter.orig', '/store/apps/details?id=com.spotify.music', '/store/apps/details?id=me.pou.app', '/store/apps/details?id=com.mojang.minecraftpe', '/store/apps/details?id=com.instagram.android', '/store/apps/details?id=com.outfit7.talkingtomgoldrun', '/store/apps/details?id=com.android.chrome', '/store/apps/details?id=com.alibaba.aliexpresshd', '/store/apps/details?id=com.h8games.helixjump', '/store/apps/details?id=com.vectorunit.purple.googleplay', '/store/apps/details?id=com.UCMobile.intl', '/store/apps/details?id=com.natenai.glowhockey', '/store/apps/details?id=air.com.spilgames.trollfacequesthorror2.scary.adventure', '/store/apps/details?id=com.skype.raider', '/store/apps/details?id=com.playrix.homescapes', '/store/apps/details?id=se.lichtenstein.mind.en', '/store/apps/details?id=com.supercell.clashroyale', '/store/apps/details?id=se.swedbank.mobil', '/store/apps/details?id=com.joom', '/store/apps/details?id=com.miniclip.basketballstars', '/store/apps/details?id=se.nordea.mobilebank', '/store/apps/details?id=com.playgendary.sportmasterstwo', '/store/apps/details?id=com.google.android.apps.translate', '/store/apps/details?id=com.facebook.katana', '/store/apps/details?id=com.minimo.miniracingadventures', '/store/apps/details?id=com.cmplay.dancingline', '/store/apps/details?id=mobi.gameguru.racingfever', '/store/apps/details?id=com.lingodeer', '/store/apps/details?id=com.jetstartgames.chess', '/store/apps/details?id=com.miniclip.eightballpool', '/store/apps/details?id=com.playrix.township', '/store/apps/details?id=io.voodoo.stackjump', '/store/apps/details?id=com.bigduckgames.flow', '/store/apps/details?id=com.ansangha.drdriving', '/store/apps/details?id=bumperbattle.io.game', '/store/apps/details?id=com.ansangha.drparking4', '/store/apps/details?id=com.kiloo.subwaysurf', '/store/apps/details?id=com.zhiliaoapp.musically', '/store/apps/details?id=com.whatsapp', '/store/apps/details?id=com.tfgco.apps.coloring.free.color.by.number', '/store/apps/details?id=com.goodreads', '/store/apps/details?id=com.hippogame.wordsdom', '/store/apps/details?id=com.king.candycrushsaga', '/store/apps/details?id=com.vng.g6.a.zombie', '/store/apps/details?id=com.speedboat.jetski.racing.simulator', '/store/apps/details?id=com.google.android.youtube', '/store/apps/details?id=com.buzzfeed.tasty', '/store/apps/details?id=com.outfit7.mytalkingtom2', '/store/apps/details?id=com.gotokeep.yoga.intl', '/store/apps/details?id=com.igg.android.lordsmobile', '/store/apps/details?id=com.viber.voip', '/store/apps/details?id=pl.idreams.Dino', '/store/apps/details?id=com.piano.music_tiles', '/store/apps/details?id=com.spcomes.jquest', '/store/apps/details?id=bubble.icy', '/store/apps/details?id=se.bankgirot.swish', '/store/apps/details?id=com.supercell.clashofclans', '/store/apps/details?id=com.pinterest', '/store/apps/details?id=com.simulator.flyingcar.stunt.extremetracks.racing', '/store/apps/details?id=com.supercell.hayday', '/store/apps/details?id=video.player.videoplayer', '/store/apps/details?id=air.com.hypah.io.slither', '/store/apps/details?id=bubble.hot', '/store/apps/details?id=com.ea.gp.fifamobile', '/store/apps/details?id=com.cardgamefree.bubble', '/store/apps/details?id=com.truecaller', '/store/apps/details?id=com.playfreesimgames.europebussimulator', '/store/apps/details?id=com.google.android.contacts', '/store/apps/details?id=com.gpp.beefactory', '/store/apps/details?id=women.workout.female.fitness', '/store/apps/details?id=com.outfit7.mytalkingtomfree', '/store/apps/details?id=com.sec.android.app.sbrowser', '/store/apps/details?id=jp.naver.line.android', '/store/apps/details?id=com.google.android.gm', '/store/apps/details?id=com.facebook.orca', '/store/apps/details?id=com.miniclip.soccerstars', '/store/apps/details?id=com.cootek.smartinputv5.skin.keyboard_theme_pink_unicorn', '/store/apps/details?id=com.ovilex.bussimulator2015', '/store/apps/details?id=pastudio.gemsswapgame.africaJourneyMatch3']\n"
     ]
    }
   ],
   "source": [
    "import re\n",
    "appreg = r'href=\\\"(/store/apps/details.*?)\\\"'\n",
    "appre = re.compile(appreg)\n",
    "app_url_list = re.findall(appre,x)\n",
    "app_url_list = list(set(app_url_list))\n",
    "print(len(app_url_list))\n",
    "print(app_url_list)"
   ]
  }
 ],
 "metadata": {
  "kernelspec": {
   "display_name": "Python 3",
   "language": "python",
   "name": "python3"
  },
  "language_info": {
   "codemirror_mode": {
    "name": "ipython",
    "version": 3
   },
   "file_extension": ".py",
   "mimetype": "text/x-python",
   "name": "python",
   "nbconvert_exporter": "python",
   "pygments_lexer": "ipython3",
   "version": "3.7.0"
  }
 },
 "nbformat": 4,
 "nbformat_minor": 2
}
